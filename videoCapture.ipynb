{
 "cells": [
  {
   "cell_type": "code",
   "execution_count": 17,
   "metadata": {},
   "outputs": [],
   "source": [
    "import cv2, time"
   ]
  },
  {
   "cell_type": "code",
   "execution_count": 18,
   "metadata": {},
   "outputs": [],
   "source": [
    "video=cv2.VideoCapture(0)"
   ]
  },
  {
   "cell_type": "code",
   "execution_count": 19,
   "metadata": {},
   "outputs": [],
   "source": [
    "check,frame=video.read()\n"
   ]
  },
  {
   "cell_type": "code",
   "execution_count": 20,
   "metadata": {},
   "outputs": [
    {
     "name": "stdout",
     "output_type": "stream",
     "text": [
      "True\n"
     ]
    }
   ],
   "source": [
    "print(check)"
   ]
  },
  {
   "cell_type": "code",
   "execution_count": 21,
   "metadata": {},
   "outputs": [
    {
     "name": "stdout",
     "output_type": "stream",
     "text": [
      "[[[172 173 170]\n",
      "  [172 173 170]\n",
      "  [171 174 172]\n",
      "  ...\n",
      "  [ 83  88  87]\n",
      "  [ 89  91  91]\n",
      "  [ 85  88  87]]\n",
      "\n",
      " [[175 175 173]\n",
      "  [175 175 173]\n",
      "  [175 175 173]\n",
      "  ...\n",
      "  [ 89  91  91]\n",
      "  [ 88  90  90]\n",
      "  [ 88  90  90]]\n",
      "\n",
      " [[173 174 172]\n",
      "  [173 174 172]\n",
      "  [173 174 172]\n",
      "  ...\n",
      "  [ 85  84  87]\n",
      "  [ 82  83  86]\n",
      "  [ 81  82  84]]\n",
      "\n",
      " ...\n",
      "\n",
      " [[142 139 141]\n",
      "  [142 139 141]\n",
      "  [139 137 139]\n",
      "  ...\n",
      "  [ 77  76  79]\n",
      "  [ 79  77  77]\n",
      "  [ 75  73  73]]\n",
      "\n",
      " [[141 138 140]\n",
      "  [142 139 141]\n",
      "  [143 140 143]\n",
      "  ...\n",
      "  [ 81  83  83]\n",
      "  [ 85  86  83]\n",
      "  [ 83  83  81]]\n",
      "\n",
      " [[142 141 144]\n",
      "  [144 144 146]\n",
      "  [143 143 145]\n",
      "  ...\n",
      "  [ 78  81  79]\n",
      "  [ 85  86  81]\n",
      "  [ 86  87  83]]]\n"
     ]
    }
   ],
   "source": [
    "print(frame)"
   ]
  },
  {
   "cell_type": "code",
   "execution_count": 22,
   "metadata": {},
   "outputs": [
    {
     "data": {
      "text/plain": [
       "-1"
      ]
     },
     "execution_count": 22,
     "metadata": {},
     "output_type": "execute_result"
    }
   ],
   "source": [
    "time.sleep(3)\n",
    "cv2.imshow('capturing',frame)\n",
    "cv2.waitKey(0)"
   ]
  },
  {
   "cell_type": "code",
   "execution_count": 23,
   "metadata": {},
   "outputs": [],
   "source": [
    "video.release()"
   ]
  },
  {
   "cell_type": "code",
   "execution_count": 24,
   "metadata": {},
   "outputs": [],
   "source": [
    "cv2.destroyAllWindows()"
   ]
  },
  {
   "cell_type": "code",
   "execution_count": null,
   "metadata": {},
   "outputs": [],
   "source": []
  }
 ],
 "metadata": {
  "kernelspec": {
   "display_name": "Python 3",
   "language": "python",
   "name": "python3"
  },
  "language_info": {
   "codemirror_mode": {
    "name": "ipython",
    "version": 3
   },
   "file_extension": ".py",
   "mimetype": "text/x-python",
   "name": "python",
   "nbconvert_exporter": "python",
   "pygments_lexer": "ipython3",
   "version": "3.8.3"
  }
 },
 "nbformat": 4,
 "nbformat_minor": 2
}
